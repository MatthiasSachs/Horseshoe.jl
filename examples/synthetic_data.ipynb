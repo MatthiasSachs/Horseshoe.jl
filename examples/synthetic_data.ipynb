{
 "cells": [
  {
   "cell_type": "code",
   "execution_count": null,
   "metadata": {},
   "outputs": [],
   "source": []
  }
 ],
 "metadata": {
  "kernelspec": {
   "display_name": "crawler",
   "language": "python",
   "name": "python3"
  },
  "language_info": {
   "name": "python",
   "version": "3.9.7 (default, Sep 16 2021, 08:50:36) \n[Clang 10.0.0 ]"
  },
  "orig_nbformat": 4,
  "vscode": {
   "interpreter": {
    "hash": "1e44fb9ba13609094daaa2efb2e1959bb1dbd272a655d1dd9c67b8bd28d14cf6"
   }
  }
 },
 "nbformat": 4,
 "nbformat_minor": 2
}
